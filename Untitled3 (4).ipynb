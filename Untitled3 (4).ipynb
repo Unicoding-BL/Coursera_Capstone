{
 "cells": [
  {
   "cell_type": "markdown",
   "metadata": {},
   "source": [
    "# Manhattan Project\n",
    "\n",
    "### Problem Description\n",
    "\n",
    "My friend consulted me on the optimal location of the restaurant in Manhattan. He would like to open a restaurant in the perfect place, who will be appreciate by every one.\n",
    "so I have to define the best emplacement and the favorite cuisine.\n",
    "\n",
    "### Business Problem\n",
    "\n",
    "Business Problem:\n",
    "New Yorck is a big city with 19.5 million inhabitants in 2019.\n",
    "it's the favorite place and receive every year a lot of visitors.\n",
    "\n",
    "Having such vast population and big geographical area, there also exists big competition between businesses. Therefore it became very difficulte to decide which area is the better to devellop a new business to get higher revenue.\n",
    "\n",
    "Target Audience: New Business who wants to open a restaurant in New York.\n",
    "\n",
    "This project try to solve the above problem by suggesting the Target Audience which are the best locality to open new restaurants and gaining maximum profits in Paris."
   ]
  },
  {
   "cell_type": "markdown",
   "metadata": {},
   "source": [
    "### Data\n",
    "\n",
    "For this project, I'll use :\n",
    "- Borough, Neighborhood, Longitude and Latitude of Paris (for localisation).\n",
    "- Data about the favorite place in the city.\n",
    "- Data about the favorit restaurant."
   ]
  },
  {
   "cell_type": "markdown",
   "metadata": {},
   "source": [
    "# Resolution\n",
    "\n",
    "- 1 Get the data\n",
    "- 2 Choose the Borough of Manhattan and then apply a filter on the neighbohood.\n",
    "- 3 Get the data from the API\n",
    "- 4 Define the freauency depending the venue\n",
    "- 5 Sort and get the top 10 \n",
    "- 6 By Using K-means, define the popularity \n",
    "- 7 Get the menu"
   ]
  },
  {
   "cell_type": "markdown",
   "metadata": {},
   "source": [
    "# Discussion / recommendations \n",
    "\n",
    "According to our result, we can only have access to the information in Manhattan. So, the optimal location is the Manhattan Valley. \n",
    "As our final result of the popularity, we can see the coffe shop are more welcomed in Manhattan Valley. So, it also may be a good choice to choose to open a cofee shop"
   ]
  },
  {
   "cell_type": "code",
   "execution_count": null,
   "metadata": {},
   "outputs": [],
   "source": []
  }
 ],
 "metadata": {
  "kernelspec": {
   "display_name": "Python 3",
   "language": "python",
   "name": "python3"
  },
  "language_info": {
   "codemirror_mode": {
    "name": "ipython",
    "version": 3
   },
   "file_extension": ".py",
   "mimetype": "text/x-python",
   "name": "python",
   "nbconvert_exporter": "python",
   "pygments_lexer": "ipython3",
   "version": "3.7.6"
  }
 },
 "nbformat": 4,
 "nbformat_minor": 4
}
