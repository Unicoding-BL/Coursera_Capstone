{
 "cells": [
  {
   "cell_type": "markdown",
   "metadata": {},
   "source": [
    "# Paris Project\n",
    "\n",
    "### Problem Description\n",
    "\n",
    "My friend consulted me on the optimal location of the restaurant in Paris. He would like to open a restaurant in the perfect place, who will be appreciate by every one.\n",
    "so I have to define the best emplacement and the favorite cuisine."
   ]
  },
  {
   "cell_type": "markdown",
   "metadata": {},
   "source": [
    "### Data\n",
    "\n",
    "For this project, I'll use :\n",
    "- Borough, Neighborhood, Longitude and Latitude of Paris (for localisation).\n",
    "- Data about the favorite place in the city.\n",
    "- Data about the favorit restaurant.\n"
   ]
  },
  {
   "cell_type": "code",
   "execution_count": null,
   "metadata": {},
   "outputs": [],
   "source": []
  }
 ],
 "metadata": {
  "kernelspec": {
   "display_name": "Python 3",
   "language": "python",
   "name": "python3"
  },
  "language_info": {
   "codemirror_mode": {
    "name": "ipython",
    "version": 3
   },
   "file_extension": ".py",
   "mimetype": "text/x-python",
   "name": "python",
   "nbconvert_exporter": "python",
   "pygments_lexer": "ipython3",
   "version": "3.7.6"
  }
 },
 "nbformat": 4,
 "nbformat_minor": 4
}
