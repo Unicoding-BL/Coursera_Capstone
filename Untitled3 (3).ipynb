{
 "cells": [
  {
   "cell_type": "markdown",
   "metadata": {},
   "source": [
    "# Paris Project\n",
    "\n",
    "### Problem Description\n",
    "\n",
    "My friend consulted me on the optimal location of the restaurant in Paris. He would like to open a restaurant in the perfect place, who will be appreciate by every one.\n",
    "so I have to define the best emplacement and the favorite cuisine.\n",
    "\n",
    "### Business Problem\n",
    "\n",
    "Business Problem:\n",
    "Paris is the capital of France and the most populous city in France.\n",
    "Paris is the favorite place and receive every year a lot of visitors.\n",
    "\n",
    "Having such vast population and big geographical area, there also exists big competition between businesses. Therefore it became very difficulte to decide which area is the better to devellop a new business to get higher revenue.\n",
    "\n",
    "Target Audience: New Business who wants to open a restaurant in Paris.\n",
    "\n",
    "This project try to solve the above problem by suggesting the Target Audience which are the best locality to open new restaurants and gaining maximum profits in Paris."
   ]
  },
  {
   "cell_type": "markdown",
   "metadata": {},
   "source": [
    "### Data\n",
    "\n",
    "For this project, I'll use :\n",
    "- Borough, Neighborhood, Longitude and Latitude of Paris (for localisation).\n",
    "- Data about the favorite place in the city.\n",
    "- Data about the favorit restaurant."
   ]
  },
  {
   "cell_type": "code",
   "execution_count": null,
   "metadata": {},
   "outputs": [],
   "source": []
  }
 ],
 "metadata": {
  "kernelspec": {
   "display_name": "Python 3",
   "language": "python",
   "name": "python3"
  },
  "language_info": {
   "codemirror_mode": {
    "name": "ipython",
    "version": 3
   },
   "file_extension": ".py",
   "mimetype": "text/x-python",
   "name": "python",
   "nbconvert_exporter": "python",
   "pygments_lexer": "ipython3",
   "version": "3.7.6"
  }
 },
 "nbformat": 4,
 "nbformat_minor": 4
}
